{
 "cells": [
  {
   "cell_type": "code",
   "execution_count": 18,
   "metadata": {
    "collapsed": false
   },
   "outputs": [],
   "source": [
    "import csv\n",
    "import numpy as np\n",
    "\n",
    "test = np.empty((2000,10,))\n",
    "i=0\n",
    "with open('test.csv', 'rt') as f:\n",
    "    reader = csv.reader(f)\n",
    "    for row in reader:\n",
    "        if row[0]=='Id':\n",
    "            continue\n",
    "                \n",
    "        test[i,:] = list(map(float, row[1:len(row)]))\n",
    "        i=i+1\n",
    "            \n",
    "        \n"
   ]
  },
  {
   "cell_type": "code",
   "execution_count": 58,
   "metadata": {
    "collapsed": false
   },
   "outputs": [],
   "source": [
    "y_pred = np.mean(test,axis=1)\n",
    "\n",
    "ind = np.empty((2000,1,))\n",
    "i=0\n",
    "with open('sample.csv', 'rt') as f:\n",
    "    reader = csv.reader(f)\n",
    "    for row in reader:\n",
    "        if row[0]=='Id':\n",
    "            continue\n",
    "        \n",
    "        ind[i] = int(row[0])\n",
    "        i=i+1\n",
    "\n",
    "y_pred=np.matrix(y_pred).T\n",
    "y_pred = np.concatenate((ind,y_pred),axis=1)\n",
    "        \n",
    "i=0\n",
    "with open('py_prediction.csv', 'w', newline=\"\") as csvfile:\n",
    "    fieldnames = ['Id', 'y']\n",
    "    writer = csv.DictWriter(csvfile, fieldnames=fieldnames)\n",
    "    \n",
    "    writer.writeheader()\n",
    "    for iter in range(len(y_pred)):\n",
    "        writer.writerow({'Id': y_pred[iter,0], 'y': y_pred[iter,1]})\n"
   ]
  }
 ],
 "metadata": {
  "kernelspec": {
   "display_name": "Python 3",
   "language": "python",
   "name": "python3"
  },
  "language_info": {
   "codemirror_mode": {
    "name": "ipython",
    "version": 3
   },
   "file_extension": ".py",
   "mimetype": "text/x-python",
   "name": "python",
   "nbconvert_exporter": "python",
   "pygments_lexer": "ipython3",
   "version": "3.6.0"
  }
 },
 "nbformat": 4,
 "nbformat_minor": 2
}
